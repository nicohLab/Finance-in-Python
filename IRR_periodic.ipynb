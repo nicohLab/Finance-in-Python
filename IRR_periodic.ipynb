{
 "cells": [
  {
   "cell_type": "markdown",
   "metadata": {},
   "source": [
    "\n",
    "# IRR for periodic cash flows\n",
    "------------\n",
    "Author: Nicol Huaraca\n"
   ]
  },
  {
   "cell_type": "code",
   "execution_count": 10,
   "metadata": {},
   "outputs": [],
   "source": [
    "# Enter cash flows\n",
    "import numpy as np\n",
    "dates = np.arange(1,11)\n",
    "f0 = 1000\n",
    "flows = [100, 125, 150, 100, 200, 300, 50, 180, 250, 300]"
   ]
  },
  {
   "cell_type": "code",
   "execution_count": 11,
   "metadata": {},
   "outputs": [],
   "source": [
    "# The IRR calculation function is defined in the form x=g(x)\n",
    "def g(x):\n",
    "    n = len(Z)\n",
    "    A = []\n",
    "    for i in range(n):\n",
    "        A.append(Z[i]/f0*((1+x)**(n-i-1))) # o fehcas\n",
    "    return sum(A)**(1/n)-1"
   ]
  },
  {
   "cell_type": "code",
   "execution_count": 12,
   "metadata": {},
   "outputs": [],
   "source": [
    "# Use fixed point method to recursively find IRRs \n",
    "k = 1\n",
    "def tir(g,x0,tol,maxiter):\n",
    "    global k\n",
    "    while k<= maxiter:\n",
    "        x = g(x0)\n",
    "        if abs(x-x0)<tol:\n",
    "            return x\n",
    "            break\n",
    "        k += 1\n",
    "        x0 = x\n",
    "        if k>= maxiter:\n",
    "            print(\"Doesn't converge\")"
   ]
  },
  {
   "cell_type": "code",
   "execution_count": 13,
   "metadata": {},
   "outputs": [
    {
     "data": {
      "text/plain": [
       "[-0.9,\n",
       " -0.592928578520874,\n",
       " -0.3511133746355385,\n",
       " -0.24285644558243358,\n",
       " -0.10987571129737739,\n",
       " -0.00613838770106967,\n",
       " 0.005848478893965892,\n",
       " 0.040349114781594864,\n",
       " 0.07329332169994385,\n",
       " 0.10001128582334373]"
      ]
     },
     "execution_count": 13,
     "metadata": {},
     "output_type": "execute_result"
    }
   ],
   "source": [
    "# Store rates as cash flows progress \n",
    "m = len(flows)\n",
    "yields = []\n",
    "for i in range(m):\n",
    "    Z = flows[:i+1]\n",
    "    yields.append(tir(g,0,1e-9,10000))\n",
    "yields"
   ]
  },
  {
   "cell_type": "code",
   "execution_count": 14,
   "metadata": {},
   "outputs": [
    {
     "data": {
      "image/png": "[encoded data removed]",
      "text/plain": [
       "<Figure size 432x288 with 1 Axes>"
      ]
     },
     "metadata": {
      "needs_background": "light"
     },
     "output_type": "display_data"
    }
   ],
   "source": [
    "# Graph the evolution of the IRR\n",
    "import matplotlib.pyplot as plt\n",
    "plt.plot(dates, yields)\n",
    "plt.show()"
   ]
  }
 ],
 "metadata": {
  "kernelspec": {
   "display_name": "Python 3",
   "language": "python",
   "name": "python3"
  },
  "language_info": {
   "codemirror_mode": {
    "name": "ipython",
    "version": 3
   },
   "file_extension": ".py",
   "mimetype": "text/x-python",
   "name": "python",
   "nbconvert_exporter": "python",
   "pygments_lexer": "ipython3",
   "version": "3.7.7"
  }
 },
 "nbformat": 4,
 "nbformat_minor": 4
}
